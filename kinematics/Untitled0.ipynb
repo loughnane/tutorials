{
 "metadata": {
  "name": "Untitled0"
 },
 "nbformat": 3,
 "nbformat_minor": 0,
 "worksheets": [
  {
   "cells": [
    {
     "cell_type": "heading",
     "level": 1,
     "metadata": {},
     "source": [
      "Getting started with openRAVE"
     ]
    },
    {
     "cell_type": "code",
     "collapsed": false,
     "input": [
      "import openravepy as rp\n",
      "import numpy as np\n",
      "import time"
     ],
     "language": "python",
     "metadata": {},
     "outputs": [],
     "prompt_number": 1
    },
    {
     "cell_type": "heading",
     "level": 2,
     "metadata": {},
     "source": [
      "Setting up the environment"
     ]
    },
    {
     "cell_type": "markdown",
     "metadata": {},
     "source": [
      "In order to do any kind of analysis, we need a robot and an environment. While you can build these up body-by-body in python, it's best practice to do that separately, then load everything in via an XML file. That's what we'll do.\n",
      "\n",
      "First we create an environment"
     ]
    },
    {
     "cell_type": "code",
     "collapsed": false,
     "input": [
      "env=rp.Environment()"
     ],
     "language": "python",
     "metadata": {},
     "outputs": [],
     "prompt_number": 2
    },
    {
     "cell_type": "markdown",
     "metadata": {},
     "source": [
      "If you want to actually view the environment, you need to create a viewer. After running this command a window should pop up."
     ]
    },
    {
     "cell_type": "code",
     "collapsed": false,
     "input": [
      "env.SetViewer('qtcoin')"
     ],
     "language": "python",
     "metadata": {},
     "outputs": [
      {
       "output_type": "pyout",
       "prompt_number": 3,
       "text": [
        "True"
       ]
      }
     ],
     "prompt_number": 3
    },
    {
     "cell_type": "markdown",
     "metadata": {},
     "source": [
      "Next we load in the environment (which also contains the robot)"
     ]
    },
    {
     "cell_type": "code",
     "collapsed": false,
     "input": [
      "env.Load('data/pr2test1.env.xml')"
     ],
     "language": "python",
     "metadata": {},
     "outputs": [
      {
       "output_type": "pyout",
       "prompt_number": 4,
       "text": [
        "True"
       ]
      }
     ],
     "prompt_number": 4
    },
    {
     "cell_type": "markdown",
     "metadata": {},
     "source": [
      "Next we can call a function to get a list of all the robots in the environment."
     ]
    },
    {
     "cell_type": "code",
     "collapsed": false,
     "input": [
      "env.GetRobots()"
     ],
     "language": "python",
     "metadata": {},
     "outputs": [
      {
       "output_type": "pyout",
       "prompt_number": 5,
       "text": [
        "[RaveGetEnvironment(1).GetRobot('pr2')]"
       ]
      }
     ],
     "prompt_number": 5
    },
    {
     "cell_type": "markdown",
     "metadata": {},
     "source": [
      "In this case there is only one robot, let's assign the `robot_pr2` variable to it"
     ]
    },
    {
     "cell_type": "code",
     "collapsed": false,
     "input": [
      "robot_pr2=env.GetRobots()[0]"
     ],
     "language": "python",
     "metadata": {},
     "outputs": [],
     "prompt_number": 6
    },
    {
     "cell_type": "heading",
     "level": 2,
     "metadata": {},
     "source": [
      "Inteacting with the robot"
     ]
    },
    {
     "cell_type": "markdown",
     "metadata": {},
     "source": [
      "Now that we've get the robot we can query a bunch of things about it. First let's look at the manipulators it has."
     ]
    },
    {
     "cell_type": "code",
     "collapsed": false,
     "input": [
      "robot_pr2.GetManipulators()"
     ],
     "language": "python",
     "metadata": {},
     "outputs": [
      {
       "output_type": "pyout",
       "prompt_number": 7,
       "text": [
        "[RaveGetEnvironment(1).GetRobot('pr2').GetManipulator('leftarm_camera'),\n",
        " RaveGetEnvironment(1).GetRobot('pr2').GetManipulator('rightarm_camera'),\n",
        " RaveGetEnvironment(1).GetRobot('pr2').GetManipulator('head_torso'),\n",
        " RaveGetEnvironment(1).GetRobot('pr2').GetManipulator('head'),\n",
        " RaveGetEnvironment(1).GetRobot('pr2').GetManipulator('rightarm_torso'),\n",
        " RaveGetEnvironment(1).GetRobot('pr2').GetManipulator('rightarm'),\n",
        " RaveGetEnvironment(1).GetRobot('pr2').GetManipulator('leftarm_torso'),\n",
        " RaveGetEnvironment(1).GetRobot('pr2').GetManipulator('leftarm')]"
       ]
      }
     ],
     "prompt_number": 7
    },
    {
     "cell_type": "markdown",
     "metadata": {},
     "source": [
      "We can also query how many Degrees of Freedom the robot has:"
     ]
    },
    {
     "cell_type": "code",
     "collapsed": false,
     "input": [
      "robot_pr2.GetDOF()"
     ],
     "language": "python",
     "metadata": {},
     "outputs": [
      {
       "output_type": "pyout",
       "prompt_number": 23,
       "text": [
        "39"
       ]
      }
     ],
     "prompt_number": 23
    },
    {
     "cell_type": "markdown",
     "metadata": {},
     "source": [
      "and the limits for each of those degrees of freedom (first array is the lower bound, second array is the upper bound)"
     ]
    },
    {
     "cell_type": "code",
     "collapsed": false,
     "input": [
      "robot_pr2.GetDOFLimits()"
     ],
     "language": "python",
     "metadata": {},
     "outputs": [
      {
       "output_type": "pyout",
       "prompt_number": 24,
       "text": [
        "(array([ -1.00000000e+04,  -1.00000000e+04,  -1.00000000e+04,\n",
        "        -1.00000000e+04,  -1.00000000e+04,  -1.00000000e+04,\n",
        "        -1.00000000e+04,  -1.00000000e+04,  -1.00000000e+04,\n",
        "        -1.00000000e+04,  -1.00000000e+04,  -1.00000000e+04,\n",
        "         0.00000000e+00,  -3.00699286e+00,  -4.71237153e-01,\n",
        "        -7.14602373e-01,  -5.23600521e-01,  -7.99999588e-01,\n",
        "        -2.32130536e+00,  -1.00000000e+04,  -2.18000350e+00,\n",
        "        -1.00000000e+04,   0.00000000e+00,  -1.00000000e-01,\n",
        "        -1.00000000e+04,   0.00000000e+00,  -7.85399909e-01,\n",
        "        -2.28540394e+00,  -5.23600521e-01,  -3.90000803e+00,\n",
        "        -2.32130536e+00,  -1.00000000e+04,  -2.18000350e+00,\n",
        "        -1.00000000e+04,   0.00000000e+00,  -1.00000000e-01,\n",
        "        -1.00000000e+04,   0.00000000e+00,  -1.00000000e+04]),\n",
        " array([  1.00000000e+04,   1.00000000e+04,   1.00000000e+04,\n",
        "         1.00000000e+04,   1.00000000e+04,   1.00000000e+04,\n",
        "         1.00000000e+04,   1.00000000e+04,   1.00000000e+04,\n",
        "         1.00000000e+04,   1.00000000e+04,   1.00000000e+04,\n",
        "         3.10000000e-01,   3.00699286e+00,   1.39625991e+00,\n",
        "         2.28540394e+00,   1.39630005e+00,   3.90000803e+00,\n",
        "         0.00000000e+00,   1.00000000e+04,   0.00000000e+00,\n",
        "         1.00000000e+04,   5.48000224e-01,   1.00000000e-01,\n",
        "         1.00000000e+04,   9.00000000e-02,   1.48352986e+00,\n",
        "         7.14602373e-01,   1.39630005e+00,   7.99999588e-01,\n",
        "         0.00000000e+00,   1.00000000e+04,   0.00000000e+00,\n",
        "         1.00000000e+04,   5.48000224e-01,   1.00000000e-01,\n",
        "         1.00000000e+04,   9.00000000e-02,   1.00000000e+04]))"
       ]
      }
     ],
     "prompt_number": 24
    },
    {
     "cell_type": "markdown",
     "metadata": {},
     "source": [
      "And a bunch of other things. For now, let's manipulate the leftarm_torso"
     ]
    },
    {
     "cell_type": "code",
     "collapsed": false,
     "input": [
      "manip=robot_pr2.SetActiveManipulator('leftarm_torso')"
     ],
     "language": "python",
     "metadata": {},
     "outputs": [],
     "prompt_number": 25
    },
    {
     "cell_type": "markdown",
     "metadata": {},
     "source": [
      "So the next line is pretty loaded, but don't worry... I'll break it down."
     ]
    },
    {
     "cell_type": "code",
     "collapsed": false,
     "input": [
      "ikmodel = rp.databases.inversekinematics.InverseKinematicsModel(robot=robot_pr2,iktype=rp.IkParameterization.Type.Transform6D)"
     ],
     "language": "python",
     "metadata": {},
     "outputs": [],
     "prompt_number": 36
    },
    {
     "cell_type": "markdown",
     "metadata": {},
     "source": [
      "So the first thing to understand is that openRAVE precomputes the kinematic model. Doing this ahead of time allows better performance during runtime (since the robot only has to look up a value in real-time instead of computing kinematics on the fly).\n",
      "\n",
      "In regards to the arguments:\n",
      "\n",
      "- `robot` is just asking for a robot model. We can't calculate the inverse kinematics of a robot's manipulator if we don't have a robot, so we pass it our `robot_pr2`\n",
      "- `iktype` is asking for the solver the database generator will use. The available models can be found at `openravepy.IkParameterization.Type`. We will be using `Transform6D`\n",
      "    - Transform6D - end effector reaches desired 6D transformation\n",
      "    - Rotation3D - end effector reaches desired 3D rotation\n",
      "    - Translation3D - end effector origin reaches desired 3D translation\n",
      "    - Direction3D - direction on end effector coordinate system reaches desired direction\n",
      "    - Ray4D - ray on end effector coordinate system reaches desired global ray\n",
      "    - Lookat3D - direction on end effector coordinate system points to desired 3D position\n",
      "    - TranslationDirection5D - end effector origin and direction reaches desired 3D translation and direction. Can be thought of as Ray IK where the origin of the ray must coincide.\n",
      "    - TranslationXY2D - end effector origin reaches desired XY translation position, Z is ignored. The coordinate system with relative to the base link.\n",
      "    - TranslationLocalGlobal6D - local point on end effector origin reaches desired 3D global point. Because both local point and global point can be specified, there are 6 values.\n",
      "    - TranslationXAxisAngle4D, TranslationYAxisAngle4D, TranslationZAxisAngle4D - end effector origin reaches desired 3D translation, manipulator direction makes a specific angle with x/y/z-axis (defined in the manipulator base link\u2019s coordinate system)\n",
      "    - TranslationXAxisAngleZNorm4D, \n",
      "    - TranslationYAxisAngleXNorm4D, \n",
      "    - TranslationZAxisAngleYNorm4D - end effector origin reaches desired 3D translation, manipulator direction needs to be orthogonal to z, x, or y axis and be rotated at a certain angle starting from the x, y, or z axis (defined in the manipulator base link\u2019s coordinate system)"
     ]
    },
    {
     "cell_type": "markdown",
     "metadata": {},
     "source": [
      "not sure why i need to do this:"
     ]
    },
    {
     "cell_type": "code",
     "collapsed": false,
     "input": [
      "if not ikmodel.load():\n",
      "    ikmodel.autogenerate()"
     ],
     "language": "python",
     "metadata": {},
     "outputs": [],
     "prompt_number": 37
    },
    {
     "cell_type": "code",
     "collapsed": false,
     "input": [
      "with env:\n",
      "    Tgoal = np.array([[0,-1,0,-0.21],[-1,0,0,0.04],[0,0,-1,0.92],[0,0,0,1]])\n",
      "    sol = manip.FindIKSolution(Tgoal, rp.IkFilterOptions.CheckEnvCollisions) # get collision-free solution\n",
      "    with robot_pr2: # save robot state\n",
      "        robot_pr2.SetDOFValues(sol,manip.GetArmIndices()) # set the current solution\n",
      "        Tee = manip.GetEndEffectorTransform()\n",
      "        env.UpdatePublishedBodies() # allow viewer to update new robot\n",
      "        time.sleep(10)"
     ],
     "language": "python",
     "metadata": {},
     "outputs": [],
     "prompt_number": 45
    },
    {
     "cell_type": "code",
     "collapsed": false,
     "input": [
      "rp.raveLogInfo('Tee is: '+repr(Tee))"
     ],
     "language": "python",
     "metadata": {},
     "outputs": [],
     "prompt_number": 39
    },
    {
     "cell_type": "code",
     "collapsed": false,
     "input": [
      "manip.CalculateJacobian()"
     ],
     "language": "python",
     "metadata": {},
     "outputs": [
      {
       "output_type": "pyout",
       "prompt_number": 44,
       "text": [
        "array([[  0.00000000e+00,   2.05044971e-01,   4.09807651e-17,\n",
        "          2.04903825e-17,  -5.05979851e-33,   2.27873067e-17,\n",
        "         -1.81789168e-33,   8.18705629e-18],\n",
        "       [  0.00000000e+00,   9.79774239e-01,   1.95819959e-16,\n",
        "          9.79099795e-17,  -2.41774290e-32,   1.08885460e-16,\n",
        "         -8.68650142e-33,   3.91205246e-17],\n",
        "       [  1.00000000e+00,   0.00000000e+00,  -9.01000000e-01,\n",
        "         -1.11022302e-16,  -5.01000000e-01,  -1.38777878e-17,\n",
        "         -1.80000000e-01,  -6.93889390e-18]])"
       ]
      }
     ],
     "prompt_number": 44
    },
    {
     "cell_type": "code",
     "collapsed": false,
     "input": [
      "Tee.shape"
     ],
     "language": "python",
     "metadata": {},
     "outputs": [
      {
       "output_type": "pyout",
       "prompt_number": 18,
       "text": [
        "(4, 4)"
       ]
      }
     ],
     "prompt_number": 18
    },
    {
     "cell_type": "code",
     "collapsed": false,
     "input": [],
     "language": "python",
     "metadata": {},
     "outputs": []
    }
   ],
   "metadata": {}
  }
 ]
}